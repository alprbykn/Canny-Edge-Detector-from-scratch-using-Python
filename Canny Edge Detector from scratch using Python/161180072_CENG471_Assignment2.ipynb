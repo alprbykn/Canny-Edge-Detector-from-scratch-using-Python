{
 "cells": [
  {
   "cell_type": "code",
   "execution_count": null,
   "metadata": {},
   "outputs": [],
   "source": [
    "###Alper Beykan YOLCU###\n",
    "###161180072###\n",
    "###CENG 471 Assignment2###\n",
    "###December 2020###"
   ]
  },
  {
   "cell_type": "code",
   "execution_count": null,
   "metadata": {},
   "outputs": [],
   "source": [
    "\"\"\"\n",
    "The goal of this assignment is to implement a Canny Edge Detector from scratch using Python.\n",
    "Important Note: For this assignment, you are not allowed to use the Canny Edge Detector methods\n",
    "from vision libraries such as OpenCV. You can use other methods and operators from these libraries\n",
    "for other aspects of the homework such as image uploading, writing to a file, grayscale conversion,\n",
    "applying Gaussian filter, matrix operations etc. You can use the image provided in the assignment\n",
    "folder.\n",
    "Canny edge detector:\n",
    "The Canny edge detector is an edge detection operator that uses a multi-stage algorithm to detect a\n",
    "wide range of edges in images. It was developed by John F. Canny in 1986. Among the edge detection\n",
    "methods developed so far, Canny edge detection algorithm is one of the most strictly defined methods\n",
    "that provides good and reliable detection, and is therefore among the most popular methods. [1]\n",
    "\"\"\""
   ]
  },
  {
   "cell_type": "code",
   "execution_count": null,
   "metadata": {},
   "outputs": [],
   "source": [
    "import cv2\n",
    "import math\n",
    "import numpy as np\n",
    "import skimage as sk\n",
    "import skimage.feature\n",
    "import skimage.io as skio\n",
    "import skimage.transform as sktr\n",
    "from scipy.signal import convolve2d\n",
    "from skimage.io import imread, imshow\n",
    "import matplotlib.pyplot as plt"
   ]
  },
  {
   "cell_type": "code",
   "execution_count": null,
   "metadata": {},
   "outputs": [],
   "source": [
    "def showIm(img):#image show function\n",
    "    \n",
    "    cv2.imshow(\"showing image\", img)\n",
    "    cv2.waitKey(0)\n",
    "    cv2.destroyAllWindows()\n",
    "    return 0"
   ]
  },
  {
   "cell_type": "code",
   "execution_count": null,
   "metadata": {},
   "outputs": [],
   "source": [
    "def plotIm(img):#image plot function.\n",
    "    plt.imshow(img,cmap=plt.get_cmap('gray')) \n",
    "    return plt.show()"
   ]
  },
  {
   "cell_type": "code",
   "execution_count": null,
   "metadata": {},
   "outputs": [],
   "source": [
    "#1. Grayscale Conversion (5 points)\n",
    "#due to week8_edgeandboundarydetection lesson..\n",
    "def grayscale_Conversion(img):#converts img to grayscale\n",
    "    img = cv2.cvtColor(img, cv2.COLOR_RGB2GRAY) \n",
    "    print(\"Grayscaled img\")\n",
    "    return img  \n",
    "    "
   ]
  },
  {
   "cell_type": "code",
   "execution_count": null,
   "metadata": {},
   "outputs": [],
   "source": [
    "#2. Apply Gaussian filter to smooth the image in order to remove the noise (20 points)\n",
    "#You can determine\n",
    "#the kernel size and sigma value through trial and error.\n",
    "def apply_GuassianFilter(img):#The blur removes some of the noise before further processing the image.\n",
    "    img = cv2.GaussianBlur(img, (3, 3), 1) \n",
    "    print(\"GuassianFiltered img\")\n",
    "    return img"
   ]
  },
  {
   "cell_type": "code",
   "execution_count": null,
   "metadata": {},
   "outputs": [],
   "source": [
    "def Normalize(img):##Normalizing the image after operated, not necessery for all operations\n",
    "    img = img/np.max(img)\n",
    "    return img"
   ]
  },
  {
   "cell_type": "code",
   "execution_count": null,
   "metadata": {},
   "outputs": [],
   "source": [
    "#3. Find the intensity gradients of the image (30 points)\n",
    "#The Gradient calculation step detects the edge intensity and direction. The gradients can be determined by using a Sobel filter.\n",
    "#Then, the magnitude G and the slope θ of the gradient are calculated as follow \n",
    "#(the derivativesIx and Iy with respect to x and y are calculated by convolving Image (I) with Sobel kernels in x and y directions):\n",
    "def conv_transform(image):##performs matrix operation for colvolving function\n",
    "    image_copy = image.copy()\n",
    "\n",
    "    for i in range(image.shape[0]):\n",
    "        for j in range(image.shape[1]):\n",
    "            image_copy[i][j] = image[image.shape[0]-i-1][image.shape[1]-j-1]\n",
    "    return image_copy\n",
    "\n",
    "def convolve(image, kernel):#convolves the x and y kernels over the image.\n",
    "    kernel = conv_transform(kernel)\n",
    "    height,width = image.shape[:2]\n",
    "    kernel_h,kernel_w = kernel.shape[:2]\n",
    "\n",
    "    h = kernel_h//2#h\n",
    "    w = kernel_w//2#w\n",
    "\n",
    "    image_conv = np.zeros(image.shape)\n",
    "\n",
    "    for i in range(h, height-h):\n",
    "        for j in range(w, width-w):\n",
    "            sum = 0\n",
    "\n",
    "            for m in range(kernel_h):\n",
    "                for n in range(kernel_w):\n",
    "                    sum = (sum + kernel[m][n] * image[i-h+m][j-w+n])\n",
    "            \n",
    "            image_conv[i][j] = sum\n",
    "\n",
    "    return image_conv\n",
    "\n",
    "\n",
    "def sobel(img):\n",
    "    #first we convolve kernels and image by convolve function and we get x and y gradients.\n",
    "    #then we use that arrays for calculating magnitude and the slope of gradient\n",
    "    \n",
    "    # Prewitt operators for Sobel Kernel to find gradient of Y and X\n",
    "    x_kernel = np.array([[1, 0, -1], [2, 0, -2], [1, 0, -1]])#for hprizonal direction\n",
    "    y_kernel = np.array([[1, 2, 1], [0, 0, 0], [-1, -2, -1]])#for vertical direction\n",
    "    gx = convolve(img, x_kernel)\n",
    "    gy = convolve(img, y_kernel)\n",
    "    magnitudeG = np.hypot(gx,gy)\n",
    "    MagnitudeG=Normalize(magnitudeG)\n",
    "    plotIm(magnitudeG)\n",
    "    g_angle=np.degrees(np.arctan2(gy,gx))\n",
    "    return magnitudeG,g_angle\n"
   ]
  },
  {
   "cell_type": "code",
   "execution_count": null,
   "metadata": {},
   "outputs": [],
   "source": [
    "#Apply non-maximum suppression to get rid of unnecessary edges (10 points)\n",
    "#We apply non-maximum suppression to remove redundant/duplicate edges identified by\n",
    "#Sobel Edge. We want just one line to show the edge rather than having multiple lines for the\n",
    "#same edge. This can be done by the Non-Max Suppression Algorithm. Please see [1] for details.\n",
    "def NonMaxSup(mg, ag):\n",
    "    #we are scanning the image's intense matrix. the goal is get rid of non dominant pixels\n",
    "    #the scanning is happening on different lines. if the pixel is intensed it stays, if not we are assigning 0 to its value\n",
    "    img = np.zeros(mg.shape)\n",
    "    for i in range(1, int(mg.shape[0]) - 1):\n",
    "        for j in range(1, int(mg.shape[1]) - 1):\n",
    "            if((ag[i,j] >= -22.5 and ag[i,j] <= 22.5) or (ag[i,j] <= -157.5 and ag[i,j] >= 157.5)):\n",
    "                if((mg[i,j] > mg[i,j+1]) and (mg[i,j] > mg[i,j-1])):\n",
    "                    img[i,j] = mg[i,j]\n",
    "                else:\n",
    "                    img[i,j] = 0\n",
    "            if((ag[i,j] >= 22.5 and ag[i,j] <= 67.5) or (ag[i,j] <= -112.5 and ag[i,j] >= -157.5)):\n",
    "                if((mg[i,j] > mg[i+1,j+1]) and (mg[i,j] > mg[i-1,j-1])):\n",
    "                    img[i,j] = mg[i,j]\n",
    "                else:\n",
    "                    img[i,j] = 0\n",
    "            if((ag[i,j] >= 67.5 and ag[i,j] <= 112.5) or (ag[i,j] <= -67.5 and ag[i,j] >= -112.5)):\n",
    "                if((mg[i,j] > mg[i+1,j]) and (mg[i,j] > mg[i-1,j])):\n",
    "                    img[i,j] = mg[i,j]\n",
    "                else:\n",
    "                    img[i,j] = 0\n",
    "            if((ag[i,j] >= 112.5 and ag[i,j] <= 157.5) or (ag[i,j] <= -22.5 and ag[i,j] >= -67.5)):\n",
    "                if((mg[i,j] > mg[i+1,j-1]) and (mg[i,j] > mg[i-1,j+1])):\n",
    "                    img[i,j] = mg[i,j]\n",
    "                else:\n",
    "                    img[i,j] = 0\n",
    "\n",
    "    return Normalize(img)"
   ]
  },
  {
   "cell_type": "code",
   "execution_count": null,
   "metadata": {},
   "outputs": [],
   "source": [
    "#5. Apply double threshold to determine potential edges. (5 points)\n",
    "#You can set two thresholds, a high and a low threshold to filter out edge pixels with a weak\n",
    "#gradient value and preserve edge pixels with a high gradient value.\n",
    "def double_TH(img):\n",
    "    #we are defining a high and low threshhold values.\n",
    "    #then we locate the high and low threshhold values and replacing them with defined values.\n",
    "    #the reason we do that similar to previous step, detecting irrelevent pixels.\n",
    "    highThreshold = img.max() * 0.225;\n",
    "    lowThreshold = highThreshold * 0.1;\n",
    "    result = np.zeros(img.shape[:2])#empty img for writing on it\n",
    "    weak = np.int32(75)\n",
    "    strong = np.int32(250)\n",
    "    strong_i, strong_j = np.where(img >= highThreshold)\n",
    "    weak_i, weak_j = np.where((img <= highThreshold) & (img >= lowThreshold))\n",
    "\n",
    "    result[strong_i, strong_j] = strong\n",
    "    result[weak_i, weak_j] = weak\n",
    "    return result"
   ]
  },
  {
   "cell_type": "code",
   "execution_count": null,
   "metadata": {},
   "outputs": [],
   "source": [
    "#6. Track edge by hysteresis: (5 points) Finalize the detection of edges by suppressing all the other\n",
    "#edges that are weak and not connected to strong edges. (Fort his stage, partial solutions are\n",
    "#okay, you don’t need to consider all cases). Please see [1] for details.\n",
    "#For example, you can loop through each pixel in the image, if the value of the pixel is weak and\n",
    "#there are not any neighboring pixel with value 255, you can set the value of the pixel to 0.\n",
    "#Report (25 points)\n",
    "def hysteresis(img):\n",
    "    #we are scanning through the whole image, if there is a weak pixel we look around that pixel\n",
    "    #if there is any high pixel around it we are connect it to the high pixelled value by \n",
    "    #assigning same value with high pixels. if there is no connection between a weak pixel and \n",
    "    #a high pixel we are assigning its value to 0 and getting rid of this pixel.\n",
    "    for i in range(1, img.shape[0]-1):\n",
    "        for j in range(1, img.shape[1]-1):\n",
    "            if (img[i,j] == 75):\n",
    "                if 255 in [img[i+1, j-1],img[i+1, j],img[i+1, j+1],img[i, j-1],img[i, j+1],img[i-1, j-1],img[i-1, j],img[i-1, j+1]]:\n",
    "                    img[i, j] = 255\n",
    "                else:\n",
    "                    img[i, j] = 0\n",
    "    return img"
   ]
  },
  {
   "cell_type": "code",
   "execution_count": null,
   "metadata": {},
   "outputs": [],
   "source": [
    "def apply_Canny(img):\n",
    "    ##the algorithm works on 6 steps\n",
    "    ##first we convert the image to grayscale so we can perform operations on the image easily\n",
    "    ##second we filter the image with guassian blur to reduce noise of the image.\n",
    "    #third we calculate the gradients of the image so we can calculate the magnitude and the slope of it\n",
    "    #fourth we use the magnitude and the slope values which we obtain from sobel operations for Non-Max Suppression.\n",
    "    #the NMS roams through the image on different aspects and returns an image that contains intense pixels.\n",
    "    #fifth we apply double threshholding on the image so we can detect the high and low pixels.\n",
    "    #at last we track the edges based on image whether high or low so we reduce unnecessery pixels for edge detection.\n",
    "    showIm(img)\n",
    "    img=grayscale_Conversion(img)\n",
    "    showIm(img)\n",
    "    img=apply_GuassianFilter(img)\n",
    "    showIm(img)\n",
    "    mG,aG=sobel(img)\n",
    "    img=NonMaxSup(mG,aG)\n",
    "    plotIm(img)\n",
    "    double_TH(img)\n",
    "    plotIm(img)\n",
    "    hysteresis(img)\n",
    "    plotIm(img)\n",
    "    return 0\n"
   ]
  },
  {
   "cell_type": "code",
   "execution_count": null,
   "metadata": {},
   "outputs": [],
   "source": [
    "img=cv2.imread(\"C:/Users/user/Desktop/dersler/imageProcessing/assignment_2/Assignment 2/chihuahua-dog-puppy-cute-39317_small.jpeg\")\n",
    "apply_Canny(img)"
   ]
  },
  {
   "cell_type": "code",
   "execution_count": null,
   "metadata": {},
   "outputs": [],
   "source": [
    "#References:\n",
    "#1: https://en.wikipedia.org/wiki/Canny_edge_detector\n",
    "#2: Image Ref : The image used for the assignment is from https://images.pexels.com/photos/39317/chihuahua-dog-puppy-cute39317.jpeg?auto=compress&cs=tinysrgb&dpr=1&w=500\n",
    "#3: https://towardsdatascience.com/canny-edge-detection-step-by-step-in-python-computer-vision-b49c3a2d8123\n",
    "#4: https://github.com/sivomke/Edge-detection/blob/master/main.py"
   ]
  },
  {
   "cell_type": "code",
   "execution_count": null,
   "metadata": {},
   "outputs": [],
   "source": []
  }
 ],
 "metadata": {
  "kernelspec": {
   "display_name": "Python 3",
   "language": "python",
   "name": "python3"
  },
  "language_info": {
   "codemirror_mode": {
    "name": "ipython",
    "version": 3
   },
   "file_extension": ".py",
   "mimetype": "text/x-python",
   "name": "python",
   "nbconvert_exporter": "python",
   "pygments_lexer": "ipython3",
   "version": "3.8.3"
  }
 },
 "nbformat": 4,
 "nbformat_minor": 4
}
